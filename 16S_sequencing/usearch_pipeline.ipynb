{
 "cells": [
  {
   "cell_type": "markdown",
   "id": "10006763-325a-4120-a28d-6922282859ee",
   "metadata": {},
   "source": [
    "# Methanotroph Enrichment 16S Amplicon Sequencing Analysis - Aug2022\n",
    "Note: If getting \"Exec format error\" when trying to run usearch command. Troubleshooting:\n",
    "Make sure to first run: sudo service binfmt-support start\n",
    "to activate support for 32-bit executable. See this post:\n",
    "https://stackoverflow.com/questions/42120938/exec-format-error-32-bit-executable-windows-subsystem-for-linux"
   ]
  },
  {
   "cell_type": "code",
   "execution_count": 9,
   "id": "b4c3ecfc-9b17-4e95-807f-9870bb0413c6",
   "metadata": {},
   "outputs": [
    {
     "name": "stdout",
     "output_type": "stream",
     "text": [
      "usearch v11.0.667_i86linux32, 4.0Gb RAM (16.6Gb total), 8 cores\n",
      "(C) Copyright 2013-18 Robert C. Edgar, all rights reserved.\n",
      "https://drive5.com/usearch\n",
      "\n",
      "License: personal use only\n",
      "\n",
      "\n",
      "Merging\n",
      "  Fwd data/high/YK-7_R1_001.fastq\n",
      "  Rev data/high/YK-7_R2_001.fastq\n",
      "  Relabel reads as YK-7.#\n",
      "\n",
      "00:00 4.4Gb  FASTQ base 33 for file data/high/YK-7_R1_001.fastq\n",
      "00:47 4.9Gb   100.0% 92.0% merged\n",
      "                                 \n",
      "Merging\n",
      "  Fwd data/high/YK-8_R1_001.fastq\n",
      "  Rev data/high/YK-8_R2_001.fastq\n",
      "  Relabel reads as YK-8.#\n",
      "\n",
      "01:50 4.9Gb   100.6% 86.7% merged0% 86.7% merged\n",
      "                                 \n",
      "Merging\n",
      "  Fwd data/high/YK-9_R1_001.fastq\n",
      "  Rev data/high/YK-9_R2_001.fastq\n",
      "  Relabel reads as YK-9.#\n",
      "\n",
      "02:38 4.9Gb   100.0% 87.1% merged\n",
      "\n",
      "Totals:\n",
      "   3114620  Pairs (3.1M)\n",
      "   2713485  Merged (2.7M, 87.12%)\n",
      "   1740872  Alignments with zero diffs (55.89%)\n",
      "    140803  Too many diffs (> 5) (4.52%)\n",
      "     26606  Fwd tails Q <= 2 trimmed (0.85%)\n",
      "       418  Rev tails Q <= 2 trimmed (0.01%)\n",
      "     40726  Fwd too short (< 64) after tail trimming (1.31%)\n",
      "       629  Rev too short (< 64) after tail trimming (0.02%)\n",
      "    218977  No alignment found (7.03%)\n",
      "         0  Alignment too short (< 16) (0.00%)\n",
      "     10193  Staggered pairs (0.33%) merged & trimmed\n",
      "    104.76  Mean alignment length\n",
      "    388.62  Mean merged length\n",
      "      0.48  Mean fwd expected errors\n",
      "      0.65  Mean rev expected errors\n",
      "      0.53  Mean merged expected errors\n"
     ]
    }
   ],
   "source": [
    "#Merge paired-end reads together\n",
    "! $usearch -fastq_mergepairs data/soil/*R1*.fastq -relabel @ -fastqout soil_merged.fq\n",
    "! $usearch -fastq_mergepairs data/low/*R1*.fastq -relabel @ -fastqout low_merged.fq\n",
    "! $usearch -fastq_mergepairs data/high/*R1*.fastq -relabel @ -fastqout high_merged.fq"
   ]
  },
  {
   "cell_type": "code",
   "execution_count": 85,
   "id": "2c9fa716-368e-4c22-b8e3-08548fba8bf8",
   "metadata": {},
   "outputs": [
    {
     "name": "stdout",
     "output_type": "stream",
     "text": [
      "usearch v11.0.667_i86linux32, 4.0Gb RAM (16.6Gb total), 8 cores\n",
      "(C) Copyright 2013-18 Robert C. Edgar, all rights reserved.\n",
      "https://drive5.com/usearch\n",
      "\n",
      "License: personal use only\n",
      "\n",
      "00:30 4.4Gb   100.0% Reading soil_merged.fq\n",
      "00:30 4.4Gb  Sorting by length             \n",
      "00:31 4.4Gb  Length min 47, median 413, max 484\n",
      "00:39 4.4Gb   100.0% Writing output 247918 short, 0 long\n",
      "00:39 4.4Gb  Write done, closing file and exiting       \n",
      "usearch v11.0.667_i86linux32, 4.0Gb RAM (16.6Gb total), 8 cores\n",
      "(C) Copyright 2013-18 Robert C. Edgar, all rights reserved.\n",
      "https://drive5.com/usearch\n",
      "\n",
      "License: personal use only\n",
      "\n",
      "00:34 4.4Gb   100.0% Reading low_merged.fq\n",
      "00:34 4.4Gb  Sorting by length            \n",
      "00:35 4.4Gb  Length min 22, median 411, max 483\n",
      "00:43 4.4Gb   100.0% Writing output 185213 short, 0 long\n",
      "00:44 4.4Gb  Write done, closing file and exiting       \n",
      "usearch v11.0.667_i86linux32, 4.0Gb RAM (16.6Gb total), 8 cores\n",
      "(C) Copyright 2013-18 Robert C. Edgar, all rights reserved.\n",
      "https://drive5.com/usearch\n",
      "\n",
      "License: personal use only\n",
      "\n",
      "00:36 4.4Gb   100.0% Reading high_merged.fq.3% Reading high_merged.fq\n",
      "00:36 4.4Gb  Sorting by length             \n",
      "00:36 4.4Gb  Length min 25, median 411, max 484\n",
      "00:46 4.4Gb   100.0% Writing output 341154 short, 0 long\n",
      "00:46 4.4Gb  Write done, closing file and exiting       \n"
     ]
    }
   ],
   "source": [
    "! $usearch -sortbylength soil_merged.fq -fastqout soil_merged_sorted.fq -minseqlength 400\n",
    "! $usearch -sortbylength low_merged.fq -fastqout low_merged_sorted.fq -minseqlength 400\n",
    "! $usearch -sortbylength high_merged.fq -fastqout high_merged_sorted.fq -minseqlength 400"
   ]
  },
  {
   "cell_type": "code",
   "execution_count": 86,
   "id": "d3097466-e3a2-4fc0-be32-f4c5046d7a47",
   "metadata": {},
   "outputs": [
    {
     "name": "stdout",
     "output_type": "stream",
     "text": [
      "usearch v11.0.667_i86linux32, 4.0Gb RAM (16.6Gb total), 8 cores\n",
      "(C) Copyright 2013-18 Robert C. Edgar, all rights reserved.\n",
      "https://drive5.com/usearch\n",
      "\n",
      "License: personal use only\n",
      "\n",
      "00:35 4.4Gb   100.0% Processing, 0 (0.0%) too shortrocessing, 0 (0.0%) too short\n",
      "usearch v11.0.667_i86linux32, 4.0Gb RAM (16.6Gb total), 8 cores\n",
      "(C) Copyright 2013-18 Robert C. Edgar, all rights reserved.\n",
      "https://drive5.com/usearch\n",
      "\n",
      "License: personal use only\n",
      "\n",
      "00:41 4.4Gb   100.0% Processing, 0 (0.0%) too short\n",
      "usearch v11.0.667_i86linux32, 4.0Gb RAM (16.6Gb total), 8 cores\n",
      "(C) Copyright 2013-18 Robert C. Edgar, all rights reserved.\n",
      "https://drive5.com/usearch\n",
      "\n",
      "License: personal use only\n",
      "\n",
      "00:41 4.4Gb   100.0% Processing, 0 (0.0%) too short9% Processing, 0 (0.0%) too shortocessing, 0 (0.0%) too short\n"
     ]
    }
   ],
   "source": [
    "#Trim off primers \n",
    "! $usearch -fastx_truncate soil_merged_sorted.fq -stripleft 19 -stripright 20 -fastqout soil_merged_trimmed.fq\n",
    "! $usearch -fastx_truncate low_merged_sorted.fq -stripleft 19 -stripright 20 -fastqout low_merged_trimmed.fq\n",
    "! $usearch -fastx_truncate high_merged_sorted.fq -stripleft 19 -stripright 20 -fastqout high_merged_trimmed.fq"
   ]
  },
  {
   "cell_type": "code",
   "execution_count": 87,
   "id": "f609a3b2-d56f-402a-950d-f2cc9baac2e2",
   "metadata": {},
   "outputs": [
    {
     "name": "stdout",
     "output_type": "stream",
     "text": [
      "usearch v11.0.667_i86linux32, 4.0Gb RAM (16.6Gb total), 8 cores\n",
      "(C) Copyright 2013-18 Robert C. Edgar, all rights reserved.\n",
      "https://drive5.com/usearch\n",
      "\n",
      "License: personal use only\n",
      "\n",
      "00:00 4.4Gb  FASTQ base 33 for file soil_merged_trimmed.fq\n",
      "00:49 4.9Gb   100.0% Filtering, 86.5% passedFiltering, 86.3% passed\n",
      "   1978521  Reads (2.0M)                    \n",
      "    266585  Discarded reads with expected errs > 1.00\n",
      "   1711936  Filtered reads (1.7M, 86.5%)\n",
      "usearch v11.0.667_i86linux32, 4.0Gb RAM (16.6Gb total), 8 cores\n",
      "(C) Copyright 2013-18 Robert C. Edgar, all rights reserved.\n",
      "https://drive5.com/usearch\n",
      "\n",
      "License: personal use only\n",
      "\n",
      "00:00 4.4Gb  FASTQ base 33 for file low_merged_trimmed.fq\n",
      "00:56 4.9Gb   100.0% Filtering, 88.2% passed.7% Filtering, 88.1% passedb    53.5% Filtering, 88.0% passed2% passed\n",
      "   2308688  Reads (2.3M)                    \n",
      "    271878  Discarded reads with expected errs > 1.00\n",
      "   2036810  Filtered reads (2.0M, 88.2%)\n",
      "usearch v11.0.667_i86linux32, 4.0Gb RAM (16.6Gb total), 8 cores\n",
      "(C) Copyright 2013-18 Robert C. Edgar, all rights reserved.\n",
      "https://drive5.com/usearch\n",
      "\n",
      "License: personal use only\n",
      "\n",
      "00:01 4.4Gb  FASTQ base 33 for file high_merged_trimmed.fq\n",
      "00:59 4.9Gb   100.0% Filtering, 87.4% passed\n",
      "   2372330  Reads (2.4M)                    \n",
      "    297910  Discarded reads with expected errs > 1.00\n",
      "   2074420  Filtered reads (2.1M, 87.4%)\n"
     ]
    }
   ],
   "source": [
    "# Quality filter\n",
    "! $usearch -fastq_filter soil_merged_trimmed.fq -fastq_maxee 1.0 -relabel Filt -fastaout soil_merged_trimmed_filtered.fa\n",
    "! $usearch -fastq_filter low_merged_trimmed.fq -fastq_maxee 1.0 -relabel Filt -fastaout low_merged_trimmed_filtered.fa\n",
    "! $usearch -fastq_filter high_merged_trimmed.fq -fastq_maxee 1.0 -relabel Filt -fastaout high_merged_trimmed_filtered.fa"
   ]
  },
  {
   "cell_type": "code",
   "execution_count": 102,
   "id": "79ff2f55-63fc-4755-8a40-b81de1ae03d7",
   "metadata": {},
   "outputs": [],
   "source": [
    "#Combine filtered sequences into one file so they can be processed together as recommended by usearch documentation\n",
    "! cat soil_merged_trimmed_filtered.fa >> all_filtered.fa\n",
    "! cat low_merged_trimmed_filtered.fa >> all_filtered.fa\n",
    "! cat high_merged_trimmed_filtered.fa >> all_filtered.fa"
   ]
  },
  {
   "cell_type": "code",
   "execution_count": 103,
   "id": "b9ad919c-eb18-4683-8883-d3ca9b893adf",
   "metadata": {},
   "outputs": [
    {
     "name": "stdout",
     "output_type": "stream",
     "text": [
      "usearch v11.0.667_i86linux32, 4.0Gb RAM (16.6Gb total), 8 cores\n",
      "(C) Copyright 2013-18 Robert C. Edgar, all rights reserved.\n",
      "https://drive5.com/usearch\n",
      "\n",
      "License: personal use only\n",
      "\n",
      "01:13 4.4Gb   100.0% Reading all_filtered.fa\n",
      "01:47 4.9Gb   100.0% DF                     .6% DF\n",
      "01:52 4.9Gb  5823166 seqs, 2159853 uniques, 1780076 singletons (82.4%)\n",
      "01:52 4.9Gb  Min size 1, median 1, max 475135, avg 2.70\n",
      "02:36 4.9Gb   100.0% Writing all_filtered_uniques.fa% Writing all_filtered_uniques.fa\n"
     ]
    }
   ],
   "source": [
    "# Find unique read sequences and abundances\n",
    "! $usearch -fastx_uniques all_filtered.fa -sizeout -relabel Uniq -fastaout all_filtered_uniques.fa"
   ]
  },
  {
   "cell_type": "code",
   "execution_count": 104,
   "id": "2000e51e-72fe-4c42-adb9-705b8e1f020e",
   "metadata": {},
   "outputs": [
    {
     "name": "stdout",
     "output_type": "stream",
     "text": [
      "usearch v11.0.667_i86linux32, 4.0Gb RAM (16.6Gb total), 8 cores\n",
      "(C) Copyright 2013-18 Robert C. Edgar, all rights reserved.\n",
      "https://drive5.com/usearch\n",
      "\n",
      "License: personal use only\n",
      "\n",
      "00:26 4.4Gb   100.0% Reading all_filtered_uniques.fa\n",
      "00:26 4.4Gb     0.0% 0 amplicons, 0 bad (size >= 475135)\n",
      "WARNING: Shifted sequences detected\n",
      "\n",
      "00:44 4.4Gb   100.0% 14194 amplicons, 1021152 bad (size >= 8)99 amplicons, 987333 bad (size >= 9)\n",
      "18:26 4.4Gb   100.0% 8350 good, 5845 chimeras                14.0% 1474 good, 519 chimeras3.7% 3214 good, 1565 chimeras 34.8% 3307 good, 1631 chimeras8.4% 4388 good, 2480 chimeras51.8% 4660 good, 2693 chimeras.1% 4679 good, 2714 chimeras   53.2% 4774 good, 2778 chimeras3.8% 4814 good, 2820 chimeras8.2% 5157 good, 3098 chimeras.4% 5175 good, 3113 chimeras1.6% 5429 good, 3322 chimeras69.6% 6088 good, 3796 chimeras 6467 good, 4155 chimeras76.5% 6592 good, 4263 chimeras.8% 6613 good, 4288 chimeras6.9% 6616 good, 4293 chimeras80.3% 6865 good, 4532 chimeras6.1% 7323 good, 4903 chimeras.1% 7552 good, 5100 chimeras.9% 7744 good, 5296 chimeras% 7787 good, 5345 chimeras4.6% 7933 good, 5496 chimeras 7953 good, 5523 chimeras\n",
      "18:27 4.4Gb   100.0% Writing zotus           \n"
     ]
    }
   ],
   "source": [
    "#Denoise and remove chimeras\n",
    "! $usearch -unoise3 all_filtered_uniques.fa -zotus all_zotus.fa -tabbedout all_unoise3.txt"
   ]
  },
  {
   "cell_type": "code",
   "execution_count": 105,
   "id": "fd1e2547-6d63-4d28-ad27-7ad38ea6ecc4",
   "metadata": {},
   "outputs": [
    {
     "name": "stdout",
     "output_type": "stream",
     "text": [
      "usearch v11.0.667_i86linux32, 4.0Gb RAM (16.6Gb total), 8 cores\n",
      "(C) Copyright 2013-18 Robert C. Edgar, all rights reserved.\n",
      "https://drive5.com/usearch\n",
      "\n",
      "License: personal use only\n",
      "\n",
      "00:00 4.4Gb   100.0% Reading all_zotus.fa\n",
      "00:00 4.4Gb   100.0% Masking (fastnucleo)\n",
      "00:01 4.4Gb   100.0% Word stats          \n",
      "00:01 4.4Gb   100.0% Alloc rows\n",
      "00:01 4.4Gb   100.0% Build index\n",
      "03:31:50 4.9Gb   100.0% Searching, 63.3% matchedearching, 68.0% matchedched  5.8% Searching, 70.0% matchedng, 69.6% matchedb     7.4% Searching, 68.9% matched% matchedtched matched Searching, 67.4% matched 19.6% Searching, 67.4% matchedGb    21.1% Searching, 67.4% matchedng, 67.3% matched:42 4.9Gb    23.2% Searching, 67.3% matched 23.6% Searching, 67.3% matchedSearching, 67.3% matched3% Searching, 67.6% matched9Gb    28.3% Searching, 67.8% matched67.8% matched8.1% matched:10:50 4.9Gb    32.0% Searching, 68.2% matched Searching, 68.5% matchedhed 42.1% Searching, 68.8% matched, 67.3% matched, 66.8% matchedhedhed1:54:16 4.9Gb    52.8% Searching, 64.8% matched1:56:19 4.9Gb    53.8% Searching, 64.5% matched3% Searching, 63.8% matched 4.9Gb    56.6% Searching, 63.7% matched2:08 4.9Gb    56.6% Searching, 63.7% matched9.3% Searching, 63.4% matched, 63.4% matched Searching, 63.3% matched Searching, 63.3% matched.9Gb    63.6% Searching, 63.2% matched5 4.9Gb    64.9% Searching, 63.1% matchedhing, 63.1% matched% Searching, 63.0% matched66.7% Searching, 63.0% matchedng, 62.9% matchedd, 62.9% matched2:28:36 4.9Gb    69.2% Searching, 62.9% matchedatchedb    73.1% Searching, 62.7% matchedched matched  76.8% Searching, 62.8% matched 63.0% matched2:58:26 4.9Gb    83.4% Searching, 63.0% matched3:01:35 4.9Gb    84.9% Searching, 63.0% matchedhed.3% Searching, 63.0% matched Searching, 63.0% matchedched3:13:04 4.9Gb    90.4% Searching, 63.0% matched3:15:09 4.9Gb    91.4% Searching, 63.0% matched    92.3% Searching, 63.0% matched matched3:18:55 4.9Gb    93.3% Searching, 63.0% matched3:18:57 4.9Gb    93.4% Searching, 63.0% matched94.9% Searching, 63.1% matchedmatchedhing, 63.1% matched1% matched3:23:11 4.9Gb    95.5% Searching, 63.1% matchedSearching, 63.1% matched0% Searching, 63.3% matched, 63.3% matched\n",
      "1252866 / 1978521 mapped to OTUs (63.3%)        \n",
      "03:31:50 4.9Gb  Writing soil_zotutab2.txt\n",
      "03:31:50 4.9Gb  Writing soil_zotutab2.txt ...done.\n",
      "usearch v11.0.667_i86linux32, 4.0Gb RAM (16.6Gb total), 8 cores\n",
      "(C) Copyright 2013-18 Robert C. Edgar, all rights reserved.\n",
      "https://drive5.com/usearch\n",
      "\n",
      "License: personal use only\n",
      "\n",
      "00:00 4.4Gb   100.0% Reading all_zotus.fa\n",
      "00:01 4.4Gb   100.0% Masking (fastnucleo)\n",
      "00:01 4.4Gb   100.0% Word stats          \n",
      "00:01 4.4Gb   100.0% Alloc rows\n",
      "00:02 4.4Gb   100.0% Build index\n",
      "03:55:10 4.9Gb   100.0% Searching, 94.0% matched0.9% matched 83.3% matcheding, 83.2% matcheddSearching, 83.4% matchedb     3.6% Searching, 83.4% matchedhing, 83.4% matched.9Gb     7.3% Searching, 83.4% matched5 4.9Gb     8.0% Searching, 83.4% matched  8.2% Searching, 83.4% matchedg, 83.4% matchedchedSearching, 84.9% matchedearching, 86.2% matched Searching, 86.4% matched6:22 4.9Gb    14.6% Searching, 86.7% matched2:08 4.9Gb    17.1% Searching, 88.0% matchedatched8:50 4.9Gb    20.0% Searching, 89.0% matched, 89.2% matched  21.3% Searching, 89.3% matchedb    22.2% Searching, 89.5% matched Searching, 89.8% matchedhedd6% matched90.6% matched0.0% Searching, 90.9% matchedng, 90.9% matchedng, 91.1% matchedg, 91.1% matchedearching, 91.2% matched1:23:00 4.9Gb    34.6% Searching, 91.5% matched1:35:25 4.9Gb    40.0% Searching, 92.1% matched1:41:05 4.9Gb    42.4% Searching, 92.3% matchededhed6% matched50:26 4.9Gb    46.4% Searching, 92.6% matched1:51:40 4.9Gb    46.9% Searching, 92.6% matched  47.6% Searching, 92.7% matched    49.9% Searching, 92.8% matched Searching, 92.8% matched2:02:27 4.9Gb    51.6% Searching, 92.9% matched 93.0% matchedd2:08:35 4.9Gb    54.2% Searching, 93.1% matchedmatchedng, 93.3% matched% Searching, 93.3% matchedmatched 60.1% Searching, 93.4% matched0% Searching, 93.4% matchedarching, 93.4% matched2:32:51 4.9Gb    64.7% Searching, 93.5% matched matched% matched matchedhing, 93.7% matched Searching, 93.7% matchedtched74.8% Searching, 93.8% matched.9% matched% Searching, 93.9% matched9Gb    77.7% Searching, 93.9% matchedhed matched3:10:40 4.9Gb    81.1% Searching, 93.9% matched3:12:35 4.9Gb    81.9% Searching, 94.0% matchedb    83.4% Searching, 94.0% matched.7% Searching, 94.0% matched  85.9% Searching, 94.0% matched1 4.9Gb    86.7% Searching, 94.0% matchedching, 94.0% matched:33:29 4.9Gb    90.9% Searching, 94.0% matched3:33:49 4.9Gb    91.0% Searching, 94.0% matchedcheded10 4.9Gb    97.1% Searching, 94.0% matched 94.0% matched3:54:34 4.9Gb    99.7% Searching, 94.0% matched\n",
      "2169684 / 2308688 mapped to OTUs (94.0%)        \n",
      "03:55:10 4.9Gb  Writing low_zotutab2.txt\n",
      "03:55:10 4.9Gb  Writing low_zotutab2.txt ...done.\n",
      "usearch v11.0.667_i86linux32, 4.0Gb RAM (16.6Gb total), 8 cores\n",
      "(C) Copyright 2013-18 Robert C. Edgar, all rights reserved.\n",
      "https://drive5.com/usearch\n",
      "\n",
      "License: personal use only\n",
      "\n",
      "00:01 4.4Gb   100.0% Reading all_zotus.fa\n",
      "00:01 4.4Gb   100.0% Masking (fastnucleo)\n",
      "00:01 4.4Gb   100.0% Word stats          \n",
      "00:01 4.4Gb   100.0% Alloc rows\n",
      "00:02 4.4Gb   100.0% Build index\n",
      "04:26:39 4.9Gb   100.0% Searching, 84.0% matchedng, 86.1% matched Searching, 90.5% matched9Gb     2.3% Searching, 90.5% matchedtched Searching, 90.9% matchedGb     5.0% Searching, 85.4% matched9Gb     5.1% Searching, 85.1% matched Searching, 82.7% matched 82.1% matchedGb     7.4% Searching, 81.2% matcheded4:44 4.9Gb     9.2% Searching, 81.1% matchedatched    10.8% Searching, 81.5% matchedGb    16.3% Searching, 82.2% matchedSearching, 82.3% matchedearching, 82.3% matched 22.4% Searching, 82.4% matchedched4% matchedatched1:14:23 4.9Gb    27.1% Searching, 82.5% matched1:14:24 4.9Gb    27.1% Searching, 82.5% matchedng, 82.5% matched5% matched Searching, 82.5% matched1:25:30 4.9Gb    31.2% Searching, 81.9% matched4.9Gb    31.6% Searching, 81.8% matchedched1:37:26 4.9Gb    35.9% Searching, 81.2% matchedarching, 81.3% matchedd Searching, 81.3% matched4.9Gb    38.9% Searching, 81.5% matched matched 41.6% Searching, 81.7% matched1.8% matched   51.4% Searching, 82.0% matched 4.9Gb    51.7% Searching, 82.0% matched4.9Gb    51.8% Searching, 82.0% matchedhed Searching, 82.1% matcheded2:27:59 4.9Gb    56.7% Searching, 82.2% matched05 4.9Gb    56.7% Searching, 82.2% matchedGb    57.7% Searching, 82.3% matched  58.8% Searching, 82.3% matched Searching, 82.3% matched2:36:49 4.9Gb    60.3% Searching, 82.4% matched% Searching, 82.5% matched% matched.9% Searching, 82.6% matchedd matchedmatched   79.6% Searching, 82.4% matched   81.0% Searching, 82.5% matched:03 4.9Gb    83.1% Searching, 82.4% matched Searching, 82.4% matched Searching, 82.5% matched85.1% Searching, 82.6% matchedarching, 82.7% matchedmatched2.9% matched9Gb    92.8% Searching, 83.3% matched.3% Searching, 83.3% matched:43 4.9Gb    95.3% Searching, 83.5% matched, 83.5% matched  98.0% Searching, 83.8% matchedb    98.1% Searching, 83.8% matcheddearching, 84.0% matched\n",
      "1993705 / 2372330 mapped to OTUs (84.0%)        \n",
      "04:26:39 4.9Gb  Writing high_zotutab2.txt\n",
      "04:26:39 4.9Gb  Writing high_zotutab2.txt ...done.\n"
     ]
    }
   ],
   "source": [
    "# Map reads from each sample group to combined all ZOTUs\n",
    "! $usearch -otutab soil_merged_trimmed.fq -sample_delim . -zotus all_zotus.fa -otutabout soil_zotutab2.txt -mapout soil_zmap2.txt\n",
    "! $usearch -otutab low_merged_trimmed.fq -sample_delim . -zotus all_zotus.fa -otutabout low_zotutab2.txt -mapout low_zmap2.txt\n",
    "! $usearch -otutab high_merged_trimmed.fq -sample_delim . -zotus all_zotus.fa -otutabout high_zotutab2.txt -mapout high_zmap2.txt"
   ]
  },
  {
   "cell_type": "code",
   "execution_count": 109,
   "id": "2affc6e1-aa3a-422b-99ca-00bc36c93c8d",
   "metadata": {},
   "outputs": [
    {
     "name": "stdout",
     "output_type": "stream",
     "text": [
      "usearch v11.0.667_i86linux32, 4.0Gb RAM (16.6Gb total), 8 cores\n",
      "(C) Copyright 2013-18 Robert C. Edgar, all rights reserved.\n",
      "https://drive5.com/usearch\n",
      "\n",
      "License: personal use only\n",
      "\n",
      "00:00 4.4Gb   100.0% Rows\n",
      "00:00 4.4Gb  Reading pointers...done.\n",
      "00:00 4.4Gb  Reading db seqs...done.\n",
      "01:32 4.9Gb   100.0% Processing\n"
     ]
    }
   ],
   "source": [
    "###### Assign taxonomy to zotus using rdp database\n",
    "! $usearch -sintax all_zotus.fa -db ./../16S_Sequences/rdp_16s_v18.udb -tabbedout all_zotu_tax_plus.txt -strand plus -sintax_cutoff 0.8"
   ]
  }
 ],
 "metadata": {
  "kernelspec": {
   "display_name": "Python 3 (ipykernel)",
   "language": "python",
   "name": "python3"
  },
  "language_info": {
   "codemirror_mode": {
    "name": "ipython",
    "version": 3
   },
   "file_extension": ".py",
   "mimetype": "text/x-python",
   "name": "python",
   "nbconvert_exporter": "python",
   "pygments_lexer": "ipython3",
   "version": "3.8.15"
  }
 },
 "nbformat": 4,
 "nbformat_minor": 5
}
